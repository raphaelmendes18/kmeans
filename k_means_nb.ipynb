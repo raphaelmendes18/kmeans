{
 "cells": [
  {
   "cell_type": "code",
   "execution_count": 16,
   "metadata": {},
   "outputs": [
    {
     "data": {
      "text/plain": [
       "array([[<matplotlib.axes._subplots.AxesSubplot object at 0x7ffae4003c18>]],\n",
       "      dtype=object)"
      ]
     },
     "execution_count": 16,
     "metadata": {},
     "output_type": "execute_result"
    },
    {
     "data": {
      "image/png": "[encoded data removed]",
      "text/plain": [
       "<Figure size 432x288 with 1 Axes>"
      ]
     },
     "metadata": {
      "needs_background": "light"
     },
     "output_type": "display_data"
    }
   ],
   "source": [
    "import pandas as pd\n",
    "import matplotlib.pyplot as plt\n",
    "\n",
    "df_train = pd.read_csv('/mnt/datasets/Xadrez/train-data.txt', header=None, names=['values'])\n",
    "# for i in range(0,df_train.shape[0]):\n",
    "#     df_train.loc[i,'another_value'] = random.randint(0,df_train.shape[0])\n",
    "#df_train['another_value'] = random.randint(0,df_train.shape[0])\n",
    "df_train.hist()\n",
    "\n",
    "# O Algoritmo K-Means é um algoritmo Não Supervisionado responsável por agrupar os dados em \"clusters\", \n",
    "# o algoritmo se baseia na distância euclidiana entre os datapoints no conjunto de dados, o K é um parâmetro\n",
    "# utilizado para definir o número de \"clusters\".\n",
    "# Para desenvolver o algoritmo K-Means é preciso seguir 3 passos básicos:\n",
    "#    1 - Analisar a base de dados, observando a necessidade de normalizar ou escalar os dados de modo a facilitar os cálculos da distância \n",
    "#    2 - Determinar o cálculo de distância, neste trabalho utilizaremos a distância euclidiana\n",
    "#    3 - Determinar a inicialização dos centroides\n",
    "#    4 - Calcular a diferença de cada ponto até o centroide, definindo a qual centroide cada ponto de dado pertence\n",
    "#    5 - Recalcular os centroides utilizando a média de distância entre todos os pontos do cluster, repetir esse passo até que o valor entre \n",
    "# o centroide antigo e o centroide novo seja maior que um limiar ou que n iterações sejam alcançadas.\n"
   ]
  },
  {
   "cell_type": "code",
   "execution_count": 17,
   "metadata": {},
   "outputs": [
    {
     "data": {
      "text/html": [
       "<img src=\"https://upload.wikimedia.org/wikipedia/commons/1/10/Euclidean_distance_3d_2_cropped.png\" width=\"400\" height=\"400\"/>"
      ],
      "text/plain": [
       "<IPython.core.display.Image object>"
      ]
     },
     "execution_count": 17,
     "metadata": {},
     "output_type": "execute_result"
    }
   ],
   "source": [
    "from IPython.display import Image\n",
    "from IPython.core.display import HTML \n",
    "Image(url= \"https://upload.wikimedia.org/wikipedia/commons/1/10/Euclidean_distance_3d_2_cropped.png\", width=400,height=400)\n"
   ]
  },
  {
   "cell_type": "code",
   "execution_count": 18,
   "metadata": {},
   "outputs": [
    {
     "name": "stdout",
     "output_type": "stream",
     "text": [
      "Iteration #1\n",
      "Iteration #2\n",
      "Iteration #3\n",
      "Iteration #4\n",
      "Iteration #5\n",
      "Iteration #6\n",
      "Iteration #7\n",
      "Iteration #8\n",
      "Iteration #9\n",
      "Iteration #10\n",
      "Iteration #11\n",
      "Iteration #12\n",
      "Iteration #13\n",
      "Iteration #14\n",
      "Iteration #15\n",
      "Iteration #16\n",
      "Iteration #17\n",
      "Iteration #18\n",
      "Iteration #19\n",
      "Iteration #20\n",
      "Iteration #21\n",
      "Iteration #22\n",
      "Iteration #23\n",
      "Iteration #24\n",
      "Iteration #25\n",
      "Iteration #26\n",
      "Iteration #27\n",
      "Iteration #28\n",
      "Iteration #29\n",
      "Iteration #30\n",
      "Iteration #31\n",
      "Iteration #32\n",
      "Iteration #33\n",
      "Iteration #34\n",
      "Iteration #35\n",
      "Iteration #36\n",
      "Iteration #37\n",
      "Iteration #38\n",
      "Iteration #39\n",
      "Iteration #40\n",
      "Iteration #41\n",
      "Iteration #42\n",
      "Iteration #43\n",
      "Iteration #44\n",
      "Iteration #45\n",
      "Iteration #46\n",
      "Iteration #47\n",
      "Iteration #48\n",
      "Iteration #49\n",
      "Iteration #50\n",
      "Iteration #51\n",
      "Iteration #52\n",
      "Iteration #53\n",
      "Iteration #54\n",
      "Iteration #55\n",
      "Iteration #56\n",
      "Iteration #57\n",
      "Iteration #58\n",
      "Iteration #59\n",
      "Iteration #60\n",
      "Iteration #61\n",
      "Iteration #62\n",
      "Iteration #63\n",
      "Iteration #64\n"
     ]
    },
    {
     "data": {
      "image/png": "[encoded data removed]",
      "text/plain": [
       "<Figure size 432x288 with 1 Axes>"
      ]
     },
     "metadata": {
      "needs_background": "light"
     },
     "output_type": "display_data"
    }
   ],
   "source": [
    "import random\n",
    "import numpy as np\n",
    "class Kmeans(object):\n",
    "    \n",
    "    def __init__(self, k = 3, min_distance = 0.0001):\n",
    "        self.k = k\n",
    "        # Minimum Threshold from old_centroid to new_centroid\n",
    "        self.min_distance = min_distance\n",
    "        \n",
    "    def fit(self, df, iterations=500):\n",
    "        # Initialize the Centroids at Random\n",
    "        data = df.to_numpy()\n",
    "\n",
    "        self.centroids = [data[random.randint(0,len(data))] for i in range(self.k)]\n",
    "        \n",
    "        classes = [[] for c in range(self.k)]\n",
    "        converged = False\n",
    "        iteration = 0\n",
    "        \n",
    "        while(converged==False and iteration < iterations):\n",
    "            \n",
    "            classes = [[] for i in range(self.k)]\n",
    "            \n",
    "            for row in data:\n",
    "                dist_list = [self.euclidean_distance(row, c) for c in self.centroids]\n",
    "                classification = dist_list.index(min(dist_list))\n",
    "                classes[classification].append(row)\n",
    "\n",
    "            previous_centroids = [c for c in self.centroids]\n",
    "            for idx, c in enumerate(classes):\n",
    "                self.centroids[idx] = np.average(c,axis = 0)\n",
    "\n",
    "            converged = True\n",
    "            \n",
    "            for idx, c in enumerate(classes):\n",
    "                previous_centroid = previous_centroids[idx]\n",
    "                new_centroid = self.centroids[idx]\n",
    "                if np.sum((new_centroid - previous_centroid)/previous_centroid * 100.0) > self.min_distance:\n",
    "                    converged = False    \n",
    "                    \n",
    "            iteration += 1\n",
    "            print(\"Iteration #\"+str(iteration))\n",
    "            \n",
    "        self.classes=classes\n",
    "    \n",
    "    def predict(self, x):\n",
    "        x_pred = x.to_numpy()\n",
    "        dist_list = [self.euclidean_distance(x_pred, c) for c in self.centroids]\n",
    "        classification = dist_list.index(min(dist_list))\n",
    "        return classification\n",
    "    \n",
    "    def euclidean_distance(self, p, q):\n",
    "        dist = 0\n",
    "        dist = np.linalg.norm(p-q)\n",
    "        return dist\n",
    "        \n",
    "km = Kmeans(5)\n",
    "km.fit(df_train)\n",
    "\n",
    "# Plotting starts here, the colors\n",
    "colors = 10*[\"r\", \"g\", \"c\", \"b\", \"k\"]\n",
    "\n",
    "for idx, centroid in enumerate(km.centroids):\n",
    "    plt.scatter(km.centroids[idx][0], km.centroids[idx][0], s = 130, marker = \"x\")\n",
    "\n",
    "for idx, _class in enumerate(km.classes):\n",
    "    color = colors[idx]\n",
    "    for row in _class:\n",
    "        plt.scatter(row[0], row[0], color = color,s = 30)\n",
    "        \n",
    "plt.show()\n",
    "\n",
    "        "
   ]
  },
  {
   "cell_type": "code",
   "execution_count": null,
   "metadata": {},
   "outputs": [],
   "source": []
  }
 ],
 "metadata": {
  "kernelspec": {
   "display_name": "Python 3",
   "language": "python",
   "name": "python3"
  },
  "language_info": {
   "codemirror_mode": {
    "name": "ipython",
    "version": 3
   },
   "file_extension": ".py",
   "mimetype": "text/x-python",
   "name": "python",
   "nbconvert_exporter": "python",
   "pygments_lexer": "ipython3",
   "version": "3.6.6"
  }
 },
 "nbformat": 4,
 "nbformat_minor": 2
}
